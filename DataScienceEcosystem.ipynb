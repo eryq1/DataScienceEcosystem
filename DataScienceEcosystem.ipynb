{
 "cells": [
  {
   "cell_type": "markdown",
   "id": "55f82d8a",
   "metadata": {},
   "source": [
    "# Data Science Tools and Ecosystem"
   ]
  },
  {
   "cell_type": "markdown",
   "id": "f167baad",
   "metadata": {},
   "source": [
    "In this notebook, Data Science Tools and Ecosystem are summarized."
   ]
  },
  {
   "cell_type": "markdown",
   "id": "64fc3ba3",
   "metadata": {},
   "source": [
    "**Objectives:**"
   ]
  },
  {
   "cell_type": "markdown",
   "id": "b6931428",
   "metadata": {},
   "source": [
    "<ul type= 'bullet'>\n",
    "    <li>Creating a mark down</li>\n",
    "    <li>Creating headers in markdown</li>\n",
    "    <li>Inserting a code cell</li>\n",
    "</ul>"
   ]
  },
  {
   "cell_type": "markdown",
   "id": "36829d3c",
   "metadata": {},
   "source": [
    "Some of the popular languages that Data Scientists use are:\n",
    "<ol type=\"1\">\n",
    "    <li>R programming language</li>\n",
    "    <li>Python programming language</li>\n",
    "    <li>Java programming language</li>\n",
    "    <li>C++ programming language</li>\n",
    "    </ol>\n",
    "    "
   ]
  },
  {
   "cell_type": "markdown",
   "id": "a889c446",
   "metadata": {},
   "source": [
    "Some of the commonly used libraries used by Data Scientists include:\n",
    "<ol type=\"1\">\n",
    "    <li>Numpy</li>\n",
    "    <li>Pandas</li>\n",
    "    <li>Pytorch</li>\n",
    "</ol>"
   ]
  },
  {
   "cell_type": "markdown",
   "id": "663180f3",
   "metadata": {},
   "source": [
    "| Data Science Tools |\n",
    "| ------------------ |\n",
    "| Data Asset Management Tools |\n",
    "| Code Asset Management Tools |\n",
    "| Execution Environments |\n",
    "| Development Environments |"
   ]
  },
  {
   "cell_type": "markdown",
   "id": "5a375592",
   "metadata": {},
   "source": [
    "### Below are a few examples of evaluating arithmetic expressions in Python"
   ]
  },
  {
   "cell_type": "code",
   "execution_count": null,
   "id": "5ebfa0d0",
   "metadata": {},
   "outputs": [],
   "source": [
    "<!-- This a simple arithmetic expression to mutiply then add integers -->\n",
    "(3*4)+5"
   ]
  },
  {
   "cell_type": "code",
   "execution_count": null,
   "id": "4f70a697",
   "metadata": {},
   "outputs": [],
   "source": [
    "<!-- This will convert 200 minutes to hours by diving by 60 -->\n",
    "200/60"
   ]
  },
  {
   "cell_type": "markdown",
   "id": "a1d19fa4",
   "metadata": {},
   "source": [
    "## Author"
   ]
  },
  {
   "cell_type": "markdown",
   "id": "bfe25722",
   "metadata": {},
   "source": [
    "Eric Mwangi"
   ]
  }
 ],
 "metadata": {
  "kernelspec": {
   "display_name": "Python 3 (ipykernel)",
   "language": "python",
   "name": "python3"
  },
  "language_info": {
   "codemirror_mode": {
    "name": "ipython",
    "version": 3
   },
   "file_extension": ".py",
   "mimetype": "text/x-python",
   "name": "python",
   "nbconvert_exporter": "python",
   "pygments_lexer": "ipython3",
   "version": "3.9.7"
  }
 },
 "nbformat": 4,
 "nbformat_minor": 5
}
